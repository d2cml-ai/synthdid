{
 "cells": [
  {
   "cell_type": "code",
   "execution_count": 1,
   "metadata": {},
   "outputs": [],
   "source": [
    "using Statistics, CSV, DataFrames"
   ]
  },
  {
   "cell_type": "code",
   "execution_count": 4,
   "metadata": {},
   "outputs": [
    {
     "data": {
      "text/plain": [
       "data (generic function with 1 method)"
      ]
     },
     "metadata": {},
     "output_type": "display_data"
    }
   ],
   "source": [
    "# include(\"data.jl\")"
   ]
  },
  {
   "cell_type": "code",
   "execution_count": 2,
   "metadata": {},
   "outputs": [
    {
     "data": {
      "text/plain": [
       "sc_weight_fw_covariates (generic function with 1 method)"
      ]
     },
     "metadata": {},
     "output_type": "display_data"
    }
   ],
   "source": [
    "include(\"data.jl\")\n",
    "include(\"solver.jl\")"
   ]
  },
  {
   "cell_type": "code",
   "execution_count": 3,
   "metadata": {},
   "outputs": [],
   "source": [
    "# function contract3(X::Array{Float64,3}, v::Union{Vector,Nothing}=nothing)::Matrix{Float64}\n",
    "#     if !isnothing(v) && size(X, 3) != length(v)\n",
    "#       throw(ArgumentError(\"The length of `v` must match the size of the third dimension of `X`\"))\n",
    "#     end\n",
    "#     out = zeros(Float64, size(X, 1), size(X, 2))\n",
    "#     if isnothing(v)\n",
    "#       return out\n",
    "#     end\n",
    "#     for ii in eachindex(v)\n",
    "#       out .+= v[ii] * X[:, :, ii]\n",
    "#     end\n",
    "#     return out\n",
    "#   end"
   ]
  },
  {
   "cell_type": "code",
   "execution_count": 11,
   "metadata": {},
   "outputs": [
    {
     "data": {
      "text/plain": [
       "fw_step (generic function with 1 method)"
      ]
     },
     "metadata": {},
     "output_type": "display_data"
    }
   ],
   "source": [
    "# function fw_step(A::Matrix, x::Vector{Float64}; b::Vector{Float64}, eta::Number, alpha::Union{Nothing,Float64}=nothing)::Vector{Float64}\n",
    "#     Ax = A * x\n",
    "#     half_grad = transpose(Ax .- b) * A + (eta * x)'\n",
    "#     i = findmin(half_grad)[2][2]\n",
    "#     if !isnothing(alpha)\n",
    "#       x *= (1 - alpha)\n",
    "#       x[i] += alpha\n",
    "#       return x\n",
    "#     else\n",
    "#       d_x = -x\n",
    "#       d_x[i] = 1 - x[i]\n",
    "#       if all(d_x .== 0)\n",
    "#         return x\n",
    "#       end\n",
    "#       d_err = A[:, i] - Ax\n",
    "#       step_upper = -half_grad * d_x\n",
    "#       step_bot = sum(d_err .^ 2) + eta * sum(d_x .^ 2)\n",
    "#       step = step_upper[1] / step_bot\n",
    "#       constrained_step = min(1, max(0, step))\n",
    "#       return x + constrained_step * d_x\n",
    "#     endS\n",
    "#   end"
   ]
  },
  {
   "cell_type": "code",
   "execution_count": 32,
   "metadata": {},
   "outputs": [],
   "source": [
    "# df = CSV.read(\"C:/Users/User/Documents/GitHub/synthdid/data/CPS.csv\", DataFrame);"
   ]
  },
  {
   "cell_type": "code",
   "execution_count": 5,
   "metadata": {},
   "outputs": [],
   "source": [
    "# df1 = data(\"california_prop99\");"
   ]
  },
  {
   "cell_type": "code",
   "execution_count": 3,
   "metadata": {},
   "outputs": [],
   "source": [
    "df1 = data(\"california_prop99\");\n",
    "state = []\n",
    "year = []\n",
    "perca =[]\n",
    "treat = []\n",
    "for i in df1[:,\"State\"]\n",
    "    state = vcat(state, i)\n",
    "end\n",
    "\n",
    "a = groupby(df1, :Year)\n",
    "a_1 = DataFrame(permutedims(a[1])[3,:])\n",
    "for i in 2:length(a)\n",
    "    append!(a_1,DataFrame(permutedims(a[i])[3,:]))\n",
    "end\n",
    "rename!(a_1, Symbol.(state[1:39]))\n",
    "df = a_1;\n",
    "Y = df;"
   ]
  },
  {
   "cell_type": "code",
   "execution_count": 4,
   "metadata": {},
   "outputs": [],
   "source": [
    "X = cat(zeros(size(Y)), dims = ndims(Y)+1);\n",
    "zeta_lambda = 0; zeta_omega = 0;\n",
    "lambda_intercept = true; omega_intercept = true;\n",
    "min_decrease = 1e-3; max_iter = 1000;\n",
    "lambda = nothing; omega = nothing; beta = nothing; update_lambda = true; update_omega = true\n",
    "\n",
    "T0 = size(Y)[2] - 1\n",
    "N0 = size(Y)[1] - 1\n",
    "if ndims(X) == 2\n",
    "    cat(X; dims = ndims(X)+1)\n",
    "end\n",
    "if isnothing(lambda)\n",
    "    lambda = repeat([1/T0], T0)\n",
    "end\n",
    "if isnothing(omega)\n",
    "    omega = repeat([1/N0], N0)\n",
    "end;\n",
    "if isnothing(beta)\n",
    "    beta = repeat([0.0], size(X)[3]-1)\n",
    "    if isempty(beta)\n",
    "        beta = nothing\n",
    "    end\n",
    "end\n",
    "\n",
    "Y_lambda = zeros(N0, T0+1);\n",
    "if lambda_intercept\n",
    "    for i in 1:size(Y,2)\n",
    "        Y_lambda[:,i] = Y[1:N0,i] .- mean(Y[1:N0,i])\n",
    "    end\n",
    "else\n",
    "    Y_lambda = Y[1:N0,:]\n",
    "end\n",
    "# if update_lambda\n",
    "#     lambda = fw_step(Y_lambda[:, 1:T0], lambda, b = Y_lambda[:,T0+1], eta = N0 * real(zeta_lambda^2))\n",
    "# end\n",
    "# ;"
   ]
  },
  {
   "cell_type": "code",
   "execution_count": 5,
   "metadata": {},
   "outputs": [
    {
     "data": {
      "text/plain": [
       "38-element Vector{Float64}:\n",
       " 0.01787889140103667\n",
       " 0.01787889140103667\n",
       " 0.01787889140103667\n",
       " 0.01787889140103667\n",
       " 0.01787889140103667\n",
       " 0.01787889140103667\n",
       " 0.01787889140103667\n",
       " 0.01787889140103667\n",
       " 0.01787889140103667\n",
       " 0.01787889140103667\n",
       " ⋮\n",
       " 0.01787889140103667\n",
       " 0.01787889140103667\n",
       " 0.01787889140103667\n",
       " 0.01787889140103667\n",
       " 0.01787889140103667\n",
       " 0.01787889140103667\n",
       " 0.01787889140103667\n",
       " 0.01787889140103667\n",
       " 0.01787889140103667"
      ]
     },
     "metadata": {},
     "output_type": "display_data"
    }
   ],
   "source": [
    "fw_step(Y_lambda[:, 1:T0], lambda, b = Y_lambda[:,T0+1], eta = N0 * real(zeta_lambda^2))"
   ]
  },
  {
   "attachments": {},
   "cell_type": "markdown",
   "metadata": {},
   "source": [
    "---"
   ]
  },
  {
   "cell_type": "code",
   "execution_count": null,
   "metadata": {},
   "outputs": [],
   "source": []
  },
  {
   "cell_type": "code",
   "execution_count": null,
   "metadata": {},
   "outputs": [],
   "source": []
  },
  {
   "cell_type": "code",
   "execution_count": null,
   "metadata": {},
   "outputs": [],
   "source": []
  },
  {
   "cell_type": "code",
   "execution_count": null,
   "metadata": {},
   "outputs": [],
   "source": []
  },
  {
   "cell_type": "code",
   "execution_count": 19,
   "metadata": {},
   "outputs": [
    {
     "data": {
      "text/plain": [
       "sc_weight_fw_covariates (generic function with 13 methods)"
      ]
     },
     "metadata": {},
     "output_type": "display_data"
    }
   ],
   "source": [
    "mutable struct sc_weight_fw_covariates1\n",
    "    lambda\n",
    "    omega\n",
    "    beta\n",
    "    vals\n",
    "end\n",
    "\n",
    "mutable struct update_weights1\n",
    "    val\n",
    "    lambda\n",
    "    omega\n",
    "    err_lambda\n",
    "    err_omega\n",
    "end\n",
    "\n",
    "function sc_weight_fw_covariates(Y::Matrix; X = cat(zeros(size(Y)), dims = ndims(Y)+1),\n",
    "                                    zeta_lambda = 0, zeta_omega = 0,\n",
    "                                    lambda_intercept = true, omega_intercept = true,\n",
    "                                    min_decrease = 1e-3, max_iter = 1000,\n",
    "                                    lambda = nothing, omega = nothing, beta = nothing, update_lambda = true, update_omega = true)\n",
    "    \n",
    "    if length(size(Y)) == 2 && length(size(X)) == 3 && all(size(Y) == size(X)[1:2]) && all(Matrix((isfinite.(Y)))) && all(isfinite.(X))\n",
    "        \"continue\"\n",
    "    else\n",
    "    error(\"the following condition is not met: length(size(Y)) != 2 || length(size(X)) != 3 || all(size(Y) != size(X)[1:2]) || !all(Matrix((isfinite.(Y)))) || !all(isfinite.(X))\")\n",
    "    end\n",
    "    \n",
    "    T0 = size(Y)[2] - 1\n",
    "    N0 = size(Y)[1] - 1\n",
    "    if ndims(X) == 2\n",
    "        cat(X; dims = ndims(X)+1)\n",
    "    end\n",
    "    if isnothing(lambda)\n",
    "        lambda = repeat([1/T0], T0)\n",
    "    end\n",
    "    if isnothing(omega)\n",
    "        omega = repeat([1/N0], N0)\n",
    "    end;\n",
    "    if isnothing(beta)\n",
    "        beta = repeat([0.0], size(X)[3]-1)\n",
    "        if isempty(beta)\n",
    "            beta = nothing\n",
    "        end\n",
    "    end\n",
    "    \n",
    "    function update_weights(Y, lambda, omega)\n",
    "\n",
    "        Y_lambda = zeros(N0, T0+1);\n",
    "        if lambda_intercept\n",
    "            for i in 1:size(Y,2)\n",
    "                Y_lambda[:,i] = Y[1:N0,i] .- mean(Y[1:N0,i])\n",
    "            end\n",
    "        else\n",
    "            Y_lambda = Y[1:N0,:]\n",
    "        end\n",
    "        if update_lambda\n",
    "            lambda = fw_step(Y_lambda[:, 1:T0], lambda, b = Y_lambda[:,T0+1], eta = N0 * real(zeta_lambda^2))\n",
    "        end\n",
    "        err_lambda = Y_lambda * vcat(lambda, -1);\n",
    "\n",
    "        Y_omega = zeros(size(Matrix(Y[:, 1:T0])', 1), size(Matrix(Y[:, 1:T0])',2));\n",
    "        if omega_intercept\n",
    "            for i in 1:size(Matrix(Y[:, 1:T0])', 2)\n",
    "                Y_omega[:,i] = Matrix(Y[:, 1:T0])'[1:T0, i] .- mean(Matrix(Y[:, 1:T0])'[1:T0, i])\n",
    "            end\n",
    "        else\n",
    "            Y_omega = Matrix(Y[:, 1:T0])'\n",
    "        end\n",
    "        if update_omega\n",
    "            omega = fw_step(Y_omega[:, 1:N0], omega, b = Y_omega[:,N0+1], eta = N0 * real(zeta_omega^2))\n",
    "        end\n",
    "        err_omega = Y_omega * vcat(omega, -1)\n",
    "        val = real(zeta_omega.^2) * sum(omega.^2) + real(zeta_lambda.^2) * sum(lambda.^2) + sum(err_omega.^2) / T0 .+ sum(err_lambda.^2) ./ N0\n",
    "        # return Dict(\"val\" => val, \"lambda\" => lambda, \"omega\" => omega, \"err_lambda\" => err_lambda, \"err_omega\" => err_omega)\n",
    "        res1 = update_weights1(val, lambda, omega, err_lambda, err_omega);\n",
    "        return res1;\n",
    "        \n",
    "    end\n",
    "\n",
    "    vals = repeat([0.0], max_iter);\n",
    "    t = 0\n",
    "    Y_beta = Y .- contract3(X, beta);\n",
    "    weights = update_weights(Y_beta, lambda, omega);\n",
    "\n",
    "    while t < max_iter && (t < 2 || vals[t - 1] - vals[t] > min_decrease^2)\n",
    "        t = t + 1\n",
    "        if size(X)[3]-1 == 0\n",
    "            grad_beta = 0\n",
    "        else\n",
    "            grad_beta = print(\"error in  while t < max_iter && (t < 2 || vals[t - 1] - vals[t] > min_decrease^2)\")\n",
    "        end\n",
    "        \n",
    "        alpha = 1 / t\n",
    "    \n",
    "        if isnothing(beta)\n",
    "            beta = 0\n",
    "        end\n",
    "        \n",
    "        beta = beta .- alpha * grad_beta\n",
    "        beta = nothing\n",
    "        Y_beta = Y .- contract3(X, beta)\n",
    "        weights = update_weights(Y_beta, weights.lambda, weights.omega)\n",
    "        vals[t] = weights.val\n",
    "    end\n",
    "    res2 = sc_weight_fw_covariates1(weights.lambda, weights.omega, beta, vals)\n",
    "    \n",
    "    return res2\n",
    "end "
   ]
  },
  {
   "cell_type": "code",
   "execution_count": 12,
   "metadata": {},
   "outputs": [],
   "source": [
    "a = sc_weight_fw_covariates(Matrix(Y));"
   ]
  },
  {
   "cell_type": "code",
   "execution_count": 16,
   "metadata": {},
   "outputs": [
    {
     "data": {
      "text/plain": [
       "1000-element Vector{Float64}:\n",
       " 65.44026975555354\n",
       " 57.766900362489\n",
       " 49.369268824468705\n",
       " 42.03502203783289\n",
       " 38.770348187627235\n",
       " 36.83955173888603\n",
       " 35.67727334225314\n",
       " 34.9903495608192\n",
       " 34.10363943862244\n",
       " 33.435138552237376\n",
       "  ⋮\n",
       " 26.1826738507429\n",
       " 26.182565952580426\n",
       " 26.18236144675303\n",
       " 26.18231988158758\n",
       " 26.182238348433806\n",
       " 26.18203589152398\n",
       " 26.181846224460656\n",
       " 26.181726011562738\n",
       " 26.18161332240141"
      ]
     },
     "metadata": {},
     "output_type": "display_data"
    }
   ],
   "source": [
    "a.vals"
   ]
  }
 ],
 "metadata": {
  "kernelspec": {
   "display_name": "Julia 1.8.3",
   "language": "julia",
   "name": "julia-1.8"
  },
  "language_info": {
   "file_extension": ".jl",
   "mimetype": "application/julia",
   "name": "julia",
   "version": "1.8.3"
  },
  "orig_nbformat": 4
 },
 "nbformat": 4,
 "nbformat_minor": 2
}
