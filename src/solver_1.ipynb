{
 "cells": [
  {
   "cell_type": "code",
   "execution_count": 1,
   "metadata": {},
   "outputs": [],
   "source": [
    "using Statistics, CSV, DataFrames"
   ]
  },
  {
   "cell_type": "code",
   "execution_count": 2,
   "metadata": {},
   "outputs": [
    {
     "data": {
      "text/plain": [
       "data (generic function with 1 method)"
      ]
     },
     "metadata": {},
     "output_type": "display_data"
    }
   ],
   "source": [
    "include(\"data.jl\")"
   ]
  },
  {
   "cell_type": "code",
   "execution_count": 3,
   "metadata": {},
   "outputs": [],
   "source": [
    "df = CSV.read(\"C:/Users/User/Documents/GitHub/synthdid/data/CPS.csv\", DataFrame);"
   ]
  },
  {
   "cell_type": "code",
   "execution_count": 4,
   "metadata": {},
   "outputs": [],
   "source": [
    "function contract3(X, v=Nothing)\n",
    "    # if(length(size(X)) == 3 && size(X, 3) == length(v)) return \"error\"\n",
    "    out = zeros(size(X, 1), size(X, 2))\n",
    "    if isnothing(v)\n",
    "      return out\n",
    "    end\n",
    "    for ii in eachindex(v)\n",
    "      out .+= v[ii] * X[:, :, ii]\n",
    "    end\n",
    "    return out\n",
    "  end;"
   ]
  },
  {
   "cell_type": "code",
   "execution_count": 187,
   "metadata": {},
   "outputs": [],
   "source": [
    "function fw_step(A, x, b, eta, alpha=nothing)\n",
    "    Ax = A * x\n",
    "    half_grad = transpose(Ax .- b) * A + (eta * x)'\n",
    "    i = findmin(vec(half_grad))[2]\n",
    "    if !isnothing(alpha)\n",
    "      x *= (1 - alpha)\n",
    "      x[i] += alpha\n",
    "      return x\n",
    "    else\n",
    "      d_x = -x\n",
    "      d_x[i] = 1 - x[i]\n",
    "      if all(d_x .== 0)\n",
    "        return x\n",
    "      end\n",
    "      d_err = A[:, i] - Ax\n",
    "      step_upper = -half_grad * d_x\n",
    "      step_bot = sum(d_err .^ 2) + eta * sum(d_x .^ 2)\n",
    "      step = step_upper[1] / step_bot\n",
    "      constrained_step = min(1, max(0, step))\n",
    "      return x + constrained_step * d_x\n",
    "    end\n",
    "  end;"
   ]
  },
  {
   "cell_type": "code",
   "execution_count": 186,
   "metadata": {},
   "outputs": [],
   "source": []
  },
  {
   "cell_type": "code",
   "execution_count": 272,
   "metadata": {},
   "outputs": [],
   "source": []
  },
  {
   "cell_type": "code",
   "execution_count": null,
   "metadata": {},
   "outputs": [],
   "source": [
    "function sc_weight_fw_covariates(Y, X = array(0, dim = c(dim(Y), 0)), zeta.lambda = 0, zeta.omega = 0,\n",
    "                                lambda.intercept =   TRUE, omega.intercept = TRUE,\n",
    "                                min.decrease = 1e-3, max.iter = 1000,\n",
    "                                lambda = NULL, omega = NULL, beta = NULL, update.lambda = TRUE, update.omega = TRUE)\n"
   ]
  },
  {
   "cell_type": "code",
   "execution_count": 460,
   "metadata": {},
   "outputs": [],
   "source": [
    "df = CSV.read(\"C:/Users/User/Documents/GitHub/synthdid/data/CPS.csv\", DataFrame);"
   ]
  },
  {
   "cell_type": "code",
   "execution_count": 461,
   "metadata": {},
   "outputs": [],
   "source": [
    "Y = df[:,3:5]\n",
    "X = cat(zeros(size(Y)); dims = ndims(Y)+1);\n",
    "zeta_lambda = 0; zeta_omega = 0;\n",
    "lambda_intercept = true; omega_intercept = true;\n",
    "min_decrease = 1e-3; max_iter = 1000;\n",
    "lambda = nothing; omega = nothing; beta = nothing; update_lambda = true; update_omega = true;\n",
    "\n",
    "T0 = size(Y)[2] - 1\n",
    "N0 = size(Y)[1] - 1\n",
    "if ndims(X) == 2\n",
    "    cat(X; dims = ndims(X)+1)\n",
    "end\n",
    "if isnothing(lambda)\n",
    "    lambda = repeat([1/T0], T0)\n",
    "end\n",
    "if isnothing(omega)\n",
    "    omega = repeat([1/N0], N0)\n",
    "end;\n",
    "if isnothing(beta)\n",
    "    beta = repeat([0.0], size(X)[3]-1)\n",
    "end\n",
    "\n",
    "mutable struct update_weights1\n",
    "    val\n",
    "    lambda\n",
    "    omega\n",
    "    err_lambda\n",
    "    err_omega\n",
    "end\n",
    "\n",
    "function update_weights(Y, lambda, omega)\n",
    "\n",
    "    Y_lambda = zeros(N0, T0+1);\n",
    "    if lambda_intercept\n",
    "        for i in 1:size(Y,2)\n",
    "            Y_lambda[:,i] = Y[1:N0,i] .- mean(Y[1:N0,i])\n",
    "        end\n",
    "    else\n",
    "        Y_lambda = Y[1:N0,:]\n",
    "    end\n",
    "    if update_lambda \n",
    "        lambda = fw_step(Y_lambda[:, 1:T0], lambda, Y_lambda[:,T0+1], N0 * real(zeta_lambda^2))\n",
    "    end\n",
    "    err_lambda = Y_lambda * vcat(lambda, -1);\n",
    "\n",
    "    Y_omega = zeros(size(Matrix(Y[:, 1:T0])', 1), size(Matrix(Y[:, 1:T0])',2));\n",
    "    if omega_intercept\n",
    "        for i in 1:size(Matrix(Y[:, 1:T0])', 2)\n",
    "            Y_omega[:,i] = Matrix(Y[:, 1:T0])'[1:T0, i] .- mean(Matrix(Y[:, 1:T0])'[1:T0, i])\n",
    "        end\n",
    "    else\n",
    "        Y_omega = Matrix(Y[:, 1:T0])'\n",
    "    end\n",
    "    if update_omega\n",
    "        omega = fw_step(Y_omega[:, 1:N0], omega, Y_omega[:,N0+1], N0 * real(zeta_omega^2))\n",
    "    end\n",
    "    err_omega = Y_omega * vcat(omega, -1)\n",
    "    val = real(zeta_omega.^2) * sum(omega.^2) + real(zeta_lambda.^2) * sum(lambda.^2) + sum(err_omega.^2) / T0 .+ sum(err_lambda.^2) ./ N0\n",
    "    # return Dict(\"val\" => val, \"lambda\" => lambda, \"omega\" => omega, \"err_lambda\" => err_lambda, \"err_omega\" => err_omega)\n",
    "    res1 = update_weights1(val, lambda, omega, err_lambda, err_omega);\n",
    "    return res1;\n",
    "    \n",
    "end\n",
    "\n",
    "vals = repeat([0], max_iter);\n",
    "t = 0\n",
    "Y_beta = Y .- contract3(X, beta);\n",
    "weights = update_weights(Y_beta, lambda, omega);"
   ]
  },
  {
   "cell_type": "code",
   "execution_count": 462,
   "metadata": {},
   "outputs": [
    {
     "data": {
      "text/plain": [
       "true"
      ]
     },
     "metadata": {},
     "output_type": "display_data"
    }
   ],
   "source": [
    "t < max_iter && (t < 2 || vals[t - 1] - vals[t] > min_decrease^2)"
   ]
  },
  {
   "cell_type": "code",
   "execution_count": 463,
   "metadata": {},
   "outputs": [
    {
     "data": {
      "text/plain": [
       "2000×3×1 Array{Float64, 3}:\n",
       "[:, :, 1] =\n",
       " 0.0  0.0  0.0\n",
       " 0.0  0.0  0.0\n",
       " 0.0  0.0  0.0\n",
       " 0.0  0.0  0.0\n",
       " 0.0  0.0  0.0\n",
       " 0.0  0.0  0.0\n",
       " 0.0  0.0  0.0\n",
       " 0.0  0.0  0.0\n",
       " 0.0  0.0  0.0\n",
       " 0.0  0.0  0.0\n",
       " ⋮         \n",
       " 0.0  0.0  0.0\n",
       " 0.0  0.0  0.0\n",
       " 0.0  0.0  0.0\n",
       " 0.0  0.0  0.0\n",
       " 0.0  0.0  0.0\n",
       " 0.0  0.0  0.0\n",
       " 0.0  0.0  0.0\n",
       " 0.0  0.0  0.0\n",
       " 0.0  0.0  0.0"
      ]
     },
     "metadata": {},
     "output_type": "display_data"
    }
   ],
   "source": [
    "X"
   ]
  },
  {
   "cell_type": "code",
   "execution_count": 452,
   "metadata": {},
   "outputs": [],
   "source": []
  },
  {
   "cell_type": "code",
   "execution_count": 453,
   "metadata": {},
   "outputs": [],
   "source": []
  },
  {
   "cell_type": "code",
   "execution_count": 449,
   "metadata": {},
   "outputs": [],
   "source": []
  },
  {
   "cell_type": "code",
   "execution_count": 448,
   "metadata": {},
   "outputs": [],
   "source": []
  },
  {
   "cell_type": "code",
   "execution_count": 349,
   "metadata": {},
   "outputs": [],
   "source": []
  },
  {
   "cell_type": "code",
   "execution_count": 39,
   "metadata": {},
   "outputs": [],
   "source": []
  },
  {
   "cell_type": "code",
   "execution_count": 326,
   "metadata": {},
   "outputs": [],
   "source": []
  },
  {
   "cell_type": "code",
   "execution_count": 339,
   "metadata": {},
   "outputs": [],
   "source": []
  },
  {
   "cell_type": "code",
   "execution_count": 327,
   "metadata": {},
   "outputs": [],
   "source": []
  },
  {
   "cell_type": "code",
   "execution_count": 328,
   "metadata": {},
   "outputs": [],
   "source": []
  },
  {
   "cell_type": "code",
   "execution_count": 329,
   "metadata": {},
   "outputs": [],
   "source": []
  },
  {
   "cell_type": "code",
   "execution_count": 330,
   "metadata": {},
   "outputs": [],
   "source": []
  },
  {
   "cell_type": "code",
   "execution_count": 331,
   "metadata": {},
   "outputs": [],
   "source": []
  },
  {
   "cell_type": "code",
   "execution_count": 332,
   "metadata": {},
   "outputs": [],
   "source": []
  },
  {
   "cell_type": "code",
   "execution_count": 333,
   "metadata": {},
   "outputs": [],
   "source": []
  },
  {
   "cell_type": "code",
   "execution_count": 334,
   "metadata": {},
   "outputs": [],
   "source": []
  },
  {
   "cell_type": "code",
   "execution_count": null,
   "metadata": {},
   "outputs": [],
   "source": []
  },
  {
   "cell_type": "code",
   "execution_count": 338,
   "metadata": {},
   "outputs": [],
   "source": []
  },
  {
   "cell_type": "code",
   "execution_count": 337,
   "metadata": {},
   "outputs": [],
   "source": []
  },
  {
   "cell_type": "code",
   "execution_count": 336,
   "metadata": {},
   "outputs": [],
   "source": []
  },
  {
   "cell_type": "code",
   "execution_count": 335,
   "metadata": {},
   "outputs": [],
   "source": []
  },
  {
   "cell_type": "code",
   "execution_count": null,
   "metadata": {},
   "outputs": [],
   "source": []
  },
  {
   "cell_type": "code",
   "execution_count": 192,
   "metadata": {},
   "outputs": [],
   "source": []
  },
  {
   "cell_type": "code",
   "execution_count": 193,
   "metadata": {},
   "outputs": [],
   "source": []
  },
  {
   "cell_type": "code",
   "execution_count": 194,
   "metadata": {},
   "outputs": [],
   "source": []
  },
  {
   "cell_type": "code",
   "execution_count": null,
   "metadata": {},
   "outputs": [],
   "source": []
  },
  {
   "cell_type": "code",
   "execution_count": null,
   "metadata": {},
   "outputs": [],
   "source": []
  }
 ],
 "metadata": {
  "kernelspec": {
   "display_name": "Julia 1.8.1",
   "language": "julia",
   "name": "julia-1.8"
  },
  "language_info": {
   "file_extension": ".jl",
   "mimetype": "application/julia",
   "name": "julia",
   "version": "1.8.1"
  },
  "orig_nbformat": 4
 },
 "nbformat": 4,
 "nbformat_minor": 2
}
