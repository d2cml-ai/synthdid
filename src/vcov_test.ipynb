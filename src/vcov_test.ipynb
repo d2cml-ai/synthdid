{
 "cells": [
  {
   "cell_type": "code",
   "execution_count": 1,
   "metadata": {},
   "outputs": [],
   "source": [
    "using Statistics, CSV, DataFrames, Shuffle"
   ]
  },
  {
   "cell_type": "code",
   "execution_count": 123,
   "metadata": {},
   "outputs": [],
   "source": [
    "# using Pkg\n",
    "# Pkg.add(\"Shuffle\")"
   ]
  },
  {
   "cell_type": "code",
   "execution_count": 2,
   "metadata": {},
   "outputs": [
    {
     "data": {
      "text/plain": [
       "sum_normalize (generic function with 1 method)"
      ]
     },
     "metadata": {},
     "output_type": "display_data"
    }
   ],
   "source": [
    "include(\"utils.jl\")\n",
    "include(\"synthdid.jl\")\n",
    "include(\"solver.jl\")\n",
    "include(\"data.jl\")\n",
    "include(\"vcov.jl\")"
   ]
  },
  {
   "cell_type": "code",
   "execution_count": 3,
   "metadata": {},
   "outputs": [],
   "source": [
    "# include(\"synthdid.jl\")"
   ]
  },
  {
   "cell_type": "code",
   "execution_count": 4,
   "metadata": {},
   "outputs": [],
   "source": [
    "# function sum_normalize(x)\n",
    "#     if sum(x) != 0\n",
    "#         x/sum(x)\n",
    "#     else\n",
    "#         repeat([1/length(x)], length(x))\n",
    "#     end\n",
    "# end"
   ]
  },
  {
   "cell_type": "code",
   "execution_count": 3,
   "metadata": {},
   "outputs": [],
   "source": [
    "setup = panel_matrices(data(\"california_prop99\"));\n",
    "\n",
    "algo = synthdid_estimate(setup.Y, setup.N0, setup.T0, omega_intercept=true);\n",
    "estimate = algo;\n",
    "replications = 5;"
   ]
  },
  {
   "cell_type": "code",
   "execution_count": 5,
   "metadata": {},
   "outputs": [],
   "source": [
    "function placebo_se(estimate, replications)\n",
    "    setup = estimate.setup\n",
    "    opts = estimate.opts\n",
    "    weights = estimate.weight\n",
    "    N1 = size(setup[\"Y\"])[1] - setup[\"N0\"]\n",
    "    if setup[\"N0\"] <= N1\n",
    "        error(\"must have more controls than treated units to use the placebo se\")\n",
    "    end\n",
    "    function theta(ind)\n",
    "        N0 = length(ind)-N1\n",
    "        weights1 = copy(weights)\n",
    "        weights_boot = weights1\n",
    "        weights_boot[\"omega\"] = sum_normalize(weights[\"omega\"][ind[1:N0]]);\n",
    "        synthdid_estimate(setup[\"Y\"][ind,:], N0, setup[\"T0\"],  X=setup[\"X\"][ind, :,:], weights=weights_boot,\n",
    "                            zeta_omega = opts[\"zeta_omega\"], zeta_lambda = opts[\"zeta_lambda\"], omega_intercept = opts[\"omega_intercept\"],\n",
    "                            lambda_intercept = opts[\"lambda_intercept\"], update_omega = opts[\"update_omega\"], update_lambda = opts[\"update_lambda\"],\n",
    "                            min_decrease = opts[\"min_decrease\"], max_iter = opts[\"max_iter\"])\n",
    "    end\n",
    "    \n",
    "    a = 0\n",
    "    for i in 1:replications\n",
    "        if i == 1\n",
    "            a = theta(shuffle(1:setup[\"N0\"])).estimate\n",
    "        else\n",
    "            a = vcat(a,theta(shuffle(1:setup[\"N0\"])).estimate)\n",
    "        end\n",
    "    end\n",
    "    sqrt((replications-1)/replications) * std(a)\n",
    "end"
   ]
  },
  {
   "cell_type": "code",
   "execution_count": 6,
   "metadata": {},
   "outputs": [
    {
     "data": {
      "text/plain": [
       "5.487047692950628"
      ]
     },
     "metadata": {},
     "output_type": "display_data"
    }
   ],
   "source": [
    "placebo_se(algo, 5)"
   ]
  },
  {
   "cell_type": "code",
   "execution_count": 715,
   "metadata": {},
   "outputs": [
    {
     "data": {
      "text/plain": [
       "bootstrap_sample (generic function with 2 methods)"
      ]
     },
     "metadata": {},
     "output_type": "display_data"
    }
   ],
   "source": [
    "function bootstrap_sample(estimate, replications)\n",
    "    setup = estimate.setup\n",
    "    opts = estimate.opts\n",
    "    weights = estimate.weight\n",
    "    if setup[\"N0\"] == size(setup[\"Y\"])[1] - 1\n",
    "        return NaN\n",
    "    end\n",
    "    function theta(ind)\n",
    "        if all(ind .<= setup[\"N0\"]) || all(ind .> setup[\"N0\"])\n",
    "            NaN\n",
    "        else\n",
    "            weights1 = copy(weights)\n",
    "            weights_boot = weights1\n",
    "            weights_boot[\"omega\"] = sum_normalize(weights[\"omega\"][sort(ind[ind .<= setup[\"N0\"]])])\n",
    "            synthdid_estimate(setup[\"Y\"][sort(ind),:], sum(ind .<= setup[\"N0\"]), setup[\"T0\"],  X=setup[\"X\"][sort(ind), :,:], weights=weights_boot,\n",
    "                                zeta_omega = opts[\"zeta_omega\"], zeta_lambda = opts[\"zeta_lambda\"], omega_intercept = opts[\"omega_intercept\"],\n",
    "                                lambda_intercept = opts[\"lambda_intercept\"], update_omega = opts[\"update_omega\"], update_lambda = opts[\"update_lambda\"],\n",
    "                                min_decrease = opts[\"min_decrease\"], max_iter = opts[\"max_iter\"])\n",
    "        end\n",
    "    end\n",
    "\n",
    "    bootstrap_estimates = repeat([NaN], replications)\n",
    "    count = 0\n",
    "    while count < replications\n",
    "        a = theta(sample(1:size(setup[\"Y\"])[1], size(setup[\"Y\"])[1], replace=true))\n",
    "        if typeof(a) == synthdid_est1\n",
    "            bootstrap_estimates[count+1] = a.estimate\n",
    "            count = count+1\n",
    "        end\n",
    "    end\n",
    "    bootstrap_estimates\n",
    "end"
   ]
  },
  {
   "cell_type": "code",
   "execution_count": 9,
   "metadata": {},
   "outputs": [
    {
     "data": {
      "text/plain": [
       "NaN"
      ]
     },
     "metadata": {},
     "output_type": "display_data"
    }
   ],
   "source": [
    "bootstrap_sample(estimate, replications)"
   ]
  },
  {
   "cell_type": "code",
   "execution_count": 552,
   "metadata": {},
   "outputs": [
    {
     "data": {
      "text/plain": [
       "bootstrap_se (generic function with 1 method)"
      ]
     },
     "metadata": {},
     "output_type": "display_data"
    }
   ],
   "source": [
    "function bootstrap_se(estimate, replications)\n",
    "    sqrt((replications-1)/replications) * std(bootstrap_sample(estimate, replications))\n",
    "end"
   ]
  },
  {
   "cell_type": "code",
   "execution_count": 6,
   "metadata": {},
   "outputs": [
    {
     "data": {
      "text/plain": [
       "NaN"
      ]
     },
     "metadata": {},
     "output_type": "display_data"
    }
   ],
   "source": [
    "bootstrap_se(estimate, 5)"
   ]
  },
  {
   "cell_type": "code",
   "execution_count": 719,
   "metadata": {},
   "outputs": [],
   "source": [
    "setup = panel_matrices(data(\"california_prop99\"));\n",
    "\n",
    "algo = synthdid_estimate(setup.Y, setup.N0, setup.T0, omega_intercept=true);\n",
    "estimate = algo;\n",
    "replications = 5;"
   ]
  },
  {
   "cell_type": "code",
   "execution_count": 12,
   "metadata": {},
   "outputs": [
    {
     "data": {
      "text/plain": [
       "jackknife_se (generic function with 1 method)"
      ]
     },
     "metadata": {},
     "output_type": "display_data"
    }
   ],
   "source": [
    "function jackknife_se(estimate; weights = estimate.weight)\n",
    "    setup = estimate.setup\n",
    "    opts = estimate.opts\n",
    "    weights = estimate.weight\n",
    "    if !isnothing(weights)\n",
    "        opts[\"update_omega\"] = opts[\"update_lambda\"] = false\n",
    "    end\n",
    "    if setup[\"N0\"] == size(setup[\"Y\"])[1] - 1 || (!isnothing(weights) && sum(weights[\"omega\"] != 0) == 1) \n",
    "        return NaN\n",
    "    end\n",
    "    \n",
    "    function jackknife(x)\n",
    "        n = length(x)\n",
    "        u = repeat([0.0], n)\n",
    "        function theta(ind)\n",
    "            weights1 = copy(weights)\n",
    "            weights_jk = weights1\n",
    "            if !isnothing(weights)\n",
    "                weights_jk[\"omega\"] = sum_normalize(weights[\"omega\"][ind[ind .<= setup[\"N0\"]]])\n",
    "            end\n",
    "            synthdid_estimate(setup[\"Y\"][ind,:], sum(ind .<= setup[\"N0\"]), setup[\"T0\"],  X=setup[\"X\"][ind, :,:], weights=weights_jk,\n",
    "                                        zeta_omega = opts[\"zeta_omega\"], zeta_lambda = opts[\"zeta_lambda\"], omega_intercept = opts[\"omega_intercept\"],\n",
    "                                        lambda_intercept = opts[\"lambda_intercept\"], update_omega = opts[\"update_omega\"], update_lambda = opts[\"update_lambda\"],\n",
    "                                        min_decrease = opts[\"min_decrease\"], max_iter = opts[\"max_iter\"])\n",
    "        end\n",
    "        for i in 1:n \n",
    "          u[i] = theta(x[Not(i)]).estimate\n",
    "        end\n",
    "        jack_se = sqrt(((n - 1) / n) * (n - 1) * var(u))\n",
    "      \n",
    "        jack_se\n",
    "    end\n",
    "    jackknife(1:size(setup[\"Y\"])[1])\n",
    "end"
   ]
  },
  {
   "cell_type": "code",
   "execution_count": 13,
   "metadata": {},
   "outputs": [
    {
     "data": {
      "text/plain": [
       "NaN"
      ]
     },
     "metadata": {},
     "output_type": "display_data"
    }
   ],
   "source": [
    "jackknife_se(estimate)"
   ]
  },
  {
   "cell_type": "code",
   "execution_count": 666,
   "metadata": {},
   "outputs": [
    {
     "data": {
      "text/plain": [
       "vcov_synthdid_estimate (generic function with 1 method)"
      ]
     },
     "metadata": {},
     "output_type": "display_data"
    }
   ],
   "source": [
    "function vcov_synthdid_estimate(object; method = \"bootstrap\", replications = 200)\n",
    "    if method == \"bootstrap\"\n",
    "        se = bootstrap_se(object, replications)\n",
    "    elseif method == \"jackknife\"\n",
    "        se = jackknife_se(object)\n",
    "    elseif method == \"placebo\"\n",
    "        se = placebo_se(object, replications)\n",
    "    end\n",
    "    se^2\n",
    "end"
   ]
  },
  {
   "cell_type": "code",
   "execution_count": 24,
   "metadata": {},
   "outputs": [
    {
     "data": {
      "text/plain": [
       "NaN"
      ]
     },
     "metadata": {},
     "output_type": "display_data"
    }
   ],
   "source": [
    "vcov_synthdid_estimate(algo, method = \"jackknife\")"
   ]
  },
  {
   "cell_type": "code",
   "execution_count": 22,
   "metadata": {},
   "outputs": [
    {
     "data": {
      "text/plain": [
       "NaN"
      ]
     },
     "metadata": {},
     "output_type": "display_data"
    }
   ],
   "source": [
    "vcov_synthdid_estimate(algo, method = \"bootstrap\")"
   ]
  },
  {
   "cell_type": "code",
   "execution_count": 18,
   "metadata": {},
   "outputs": [
    {
     "data": {
      "text/plain": [
       "78.92802558115682"
      ]
     },
     "metadata": {},
     "output_type": "display_data"
    }
   ],
   "source": [
    "vcov_synthdid_estimate(algo, method = \"placebo\")"
   ]
  }
 ],
 "metadata": {
  "kernelspec": {
   "display_name": "Julia 1.8.1",
   "language": "julia",
   "name": "julia-1.8"
  },
  "language_info": {
   "file_extension": ".jl",
   "mimetype": "application/julia",
   "name": "julia",
   "version": "1.8.1"
  },
  "orig_nbformat": 4
 },
 "nbformat": 4,
 "nbformat_minor": 2
}
