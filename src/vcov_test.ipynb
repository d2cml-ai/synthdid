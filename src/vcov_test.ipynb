{
 "cells": [
  {
   "cell_type": "code",
   "execution_count": 1,
   "metadata": {},
   "outputs": [],
   "source": [
    "using Statistics, CSV, DataFrames, Shuffle"
   ]
  },
  {
   "cell_type": "code",
   "execution_count": 123,
   "metadata": {},
   "outputs": [],
   "source": [
    "# using Pkg\n",
    "# Pkg.add(\"Shuffle\")"
   ]
  },
  {
   "cell_type": "code",
   "execution_count": 2,
   "metadata": {},
   "outputs": [
    {
     "data": {
      "text/plain": [
       "placebo_se (generic function with 1 method)"
      ]
     },
     "metadata": {},
     "output_type": "display_data"
    }
   ],
   "source": [
    "include(\"utils.jl\")\n",
    "include(\"synthdid.jl\")\n",
    "include(\"solver.jl\")\n",
    "include(\"data.jl\")\n",
    "include(\"vcov.jl\")"
   ]
  },
  {
   "cell_type": "code",
   "execution_count": 3,
   "metadata": {},
   "outputs": [],
   "source": [
    "# include(\"synthdid.jl\")"
   ]
  },
  {
   "cell_type": "code",
   "execution_count": 4,
   "metadata": {},
   "outputs": [],
   "source": [
    "# function sum_normalize(x)\n",
    "#     if sum(x) != 0\n",
    "#         x/sum(x)\n",
    "#     else\n",
    "#         repeat([1/length(x)], length(x))\n",
    "#     end\n",
    "# end"
   ]
  },
  {
   "cell_type": "code",
   "execution_count": 6,
   "metadata": {},
   "outputs": [],
   "source": [
    "setup = panel_matrices(data(\"california_prop99\"));\n",
    "\n",
    "algo = synthdid_estimate(setup.Y, setup.N0, setup.T0, omega_intercept=true);\n",
    "estimate = algo;\n",
    "replications = 5;"
   ]
  },
  {
   "cell_type": "code",
   "execution_count": 5,
   "metadata": {},
   "outputs": [],
   "source": [
    "# function placebo_se(estimate, replications)\n",
    "#     setup = estimate.setup\n",
    "#     opts = estimate.opts\n",
    "#     weights = estimate.weight\n",
    "#     N1 = size(setup[\"Y\"])[1] - setup[\"N0\"]\n",
    "#     if setup[\"N0\"] <= N1\n",
    "#         error(\"must have more controls than treated units to use the placebo se\")\n",
    "#     end\n",
    "#     function theta(ind)\n",
    "#         N0 = length(ind)-N1\n",
    "#         weights1 = copy(weights)\n",
    "#         weights_boot = weights1\n",
    "#         weights_boot[\"omega\"] = sum_normalize(weights[\"omega\"][ind[1:N0]]);\n",
    "#         synthdid_estimate(setup[\"Y\"][ind,:], N0, setup[\"T0\"],  X=setup[\"X\"][ind, :,:], weights=weights_boot,\n",
    "#                             zeta_omega = opts[\"zeta_omega\"], zeta_lambda = opts[\"zeta_lambda\"], omega_intercept = opts[\"omega_intercept\"],\n",
    "#                             lambda_intercept = opts[\"lambda_intercept\"], update_omega = opts[\"update_omega\"], update_lambda = opts[\"update_lambda\"],\n",
    "#                             min_decrease = opts[\"min_decrease\"], max_iter = opts[\"max_iter\"])\n",
    "#     end\n",
    "    \n",
    "#     a = 0\n",
    "#     for i in 1:replications\n",
    "#         if i == 1\n",
    "#             a = theta(shuffle(1:setup[\"N0\"])).estimate\n",
    "#         else\n",
    "#             a = vcat(a,theta(shuffle(1:setup[\"N0\"])).estimate)\n",
    "#         end\n",
    "#     end\n",
    "#     sqrt((replications-1)/replications) * std(a)\n",
    "# end"
   ]
  },
  {
   "cell_type": "code",
   "execution_count": 9,
   "metadata": {},
   "outputs": [
    {
     "data": {
      "text/plain": [
       "9.553233315927184"
      ]
     },
     "metadata": {},
     "output_type": "display_data"
    }
   ],
   "source": [
    "placebo_se(algo, 5)"
   ]
  },
  {
   "cell_type": "code",
   "execution_count": 446,
   "metadata": {},
   "outputs": [],
   "source": []
  }
 ],
 "metadata": {
  "kernelspec": {
   "display_name": "Julia 1.8.1",
   "language": "julia",
   "name": "julia-1.8"
  },
  "language_info": {
   "file_extension": ".jl",
   "mimetype": "application/julia",
   "name": "julia",
   "version": "1.8.1"
  },
  "orig_nbformat": 4
 },
 "nbformat": 4,
 "nbformat_minor": 2
}
